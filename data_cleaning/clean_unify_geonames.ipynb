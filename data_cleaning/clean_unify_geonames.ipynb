{
 "cells": [
  {
   "cell_type": "code",
   "execution_count": 46,
   "metadata": {},
   "outputs": [],
   "source": [
    "import pandas as pd\n",
    "import csv, requests, os, re, itertools, googlemaps, codecs\n",
    "from tqdm import tqdm\n",
    "from time import sleep\n",
    "from fuzzywuzzy import fuzz\n",
    "import simplejson as json"
   ]
  },
  {
   "cell_type": "code",
   "execution_count": 47,
   "metadata": {
    "collapsed": true
   },
   "outputs": [],
   "source": [
    "airports = pd.read_csv(\"airports.csv\", header=None)\n",
    "airrights = pd.read_csv(\"flight_rights.tsv\", sep=\"\\t\")\n",
    "treaties = pd.read_csv(\"treaties.tsv\", sep=\"\\t\")\n",
    "cities = pd.read_csv('cities_en.tsv', sep='\\t')\n",
    "countries = pd.read_csv('countries_en.tsv', sep='\\t')\n",
    "schedules = pd.read_csv('allschedules.tsv', sep='\\t')"
   ]
  },
  {
   "cell_type": "code",
   "execution_count": 48,
   "metadata": {
    "collapsed": true
   },
   "outputs": [],
   "source": [
    "airports = airports.loc[:, [2, 3, 4]]\n",
    "airports.columns = ['encity', 'encountry', 'icao_airport']"
   ]
  },
  {
   "cell_type": "code",
   "execution_count": 49,
   "metadata": {
    "collapsed": true
   },
   "outputs": [],
   "source": [
    "repl_city = dict(cities.loc[:, [\"ukcity\", \"encity\"]].values.tolist()[0::1])\n",
    "repl_country = dict(countries.loc[:, [\"ukcountry\", \"encountry\"]].values.tolist()[0::1])"
   ]
  },
  {
   "cell_type": "markdown",
   "metadata": {},
   "source": [
    "### replace cities"
   ]
  },
  {
   "cell_type": "code",
   "execution_count": 50,
   "metadata": {},
   "outputs": [],
   "source": [
    "treaties['enpoints_ua'] = treaties['points_ua']\n",
    "treaties['enpoints_foreign'] = treaties['points_foreign']\n",
    "airrights['from_encity'] = airrights['from_city']\n",
    "airrights['to_encity'] = airrights['to_city']\n",
    "\n",
    "for uk, en in repl_city.items():\n",
    "    treaties.enpoints_ua = treaties.enpoints_ua.str.replace(uk, en)\n",
    "    treaties.enpoints_foreign = treaties.enpoints_foreign.str.replace(uk, en)\n",
    "    airrights.from_encity = airrights.from_encity.str.replace(uk, en)\n",
    "    airrights.to_encity = airrights.to_encity.str.replace(uk, en)\n",
    "    \n",
    "treaties.enpoints_ua = treaties.enpoints_ua.str.replace('всі', 'all')\n",
    "treaties.enpoints_foreign = treaties.enpoints_foreign.str.replace('всі', 'all')"
   ]
  },
  {
   "cell_type": "markdown",
   "metadata": {},
   "source": [
    "### replace countries"
   ]
  },
  {
   "cell_type": "code",
   "execution_count": 51,
   "metadata": {
    "collapsed": true
   },
   "outputs": [],
   "source": [
    "treaties['encountry'] = treaties['country']\n",
    "airrights['encountry'] = airrights['country']\n",
    "\n",
    "for uk, en in repl_country.items():\n",
    "    treaties.encountry = treaties.encountry.str.replace(uk, en)\n",
    "    airrights.encountry = airrights.encountry.str.replace(uk, en)\n",
    "\n",
    "treaties.encountry = treaties.encountry.str.replace('[^A-Za-z -]', '').str.strip()\n",
    "airrights.encountry = airrights.encountry.str.replace('[^A-Za-z -]', '').str.strip()\n",
    "treaties.encountry = treaties.encountry.str.replace('\\s+', ' ').str.strip()\n",
    "airrights.encountry = airrights.encountry.str.replace('\\s+', ' ').str.strip()"
   ]
  },
  {
   "cell_type": "code",
   "execution_count": 52,
   "metadata": {},
   "outputs": [],
   "source": [
    "# add urls to treaties\n",
    "\n",
    "treaty_urls = pd.read_csv('urls.csv', encoding='cp1251', sep=';')\n",
    "treaties = treaties.merge(treaty_urls, on='country', how='left')"
   ]
  },
  {
   "cell_type": "markdown",
   "metadata": {},
   "source": [
    "## replace icao codes of airports"
   ]
  },
  {
   "cell_type": "code",
   "execution_count": 53,
   "metadata": {
    "collapsed": true
   },
   "outputs": [],
   "source": [
    "repl_aircity = dict(airports.loc[:, [\"icao_airport\", \"encity\"]].values.tolist()[0::1])\n",
    "repl_aircountry = dict(airports.loc[:, [\"icao_airport\", \"encountry\"]].values.tolist()[0::1])"
   ]
  },
  {
   "cell_type": "code",
   "execution_count": 54,
   "metadata": {
    "collapsed": true
   },
   "outputs": [],
   "source": [
    "schedules['encity_from'] = schedules['route_from']\n",
    "schedules['encity_to'] = schedules['route_to']\n",
    "schedules['encountry_from'] = schedules['route_from']\n",
    "schedules['encountry_to'] = schedules['route_to']\n",
    "\n",
    "for icao, en in repl_aircity.items():\n",
    "    if isinstance(icao, float) or isinstance(en, float):\n",
    "        continue\n",
    "    schedules.encity_from = schedules.encity_from.str.replace(icao, en)\n",
    "    schedules.encity_to = schedules.encity_to.str.replace(icao, en)\n",
    "    \n",
    "for icao, en in repl_aircountry.items():\n",
    "    if isinstance(icao, float) or isinstance(en, float):\n",
    "        continue\n",
    "    schedules.encountry_from = schedules.encountry_from.str.replace(icao, en)\n",
    "    schedules.encountry_to = schedules.encountry_to.str.replace(icao, en)"
   ]
  },
  {
   "cell_type": "code",
   "execution_count": 55,
   "metadata": {
    "collapsed": true
   },
   "outputs": [],
   "source": [
    "schedules = schedules.loc[(pd.notnull(schedules.encity_from) &\n",
    "                           pd.notnull(schedules.encity_to) &\n",
    "                           pd.notnull(schedules.encountry_from) &\n",
    "                           pd.notnull(schedules.encountry_to)), ]"
   ]
  },
  {
   "cell_type": "markdown",
   "metadata": {},
   "source": [
    "## check if there are duplicated city names"
   ]
  },
  {
   "cell_type": "code",
   "execution_count": 56,
   "metadata": {},
   "outputs": [
    {
     "ename": "AttributeError",
     "evalue": "'DataFrame' object has no attribute 'encities_ua'",
     "output_type": "error",
     "traceback": [
      "\u001b[1;31m--------------------------------------------\u001b[0m",
      "\u001b[1;31mAttributeError\u001b[0mTraceback (most recent call last)",
      "\u001b[1;32m<ipython-input-56-f7e6ca3291a6>\u001b[0m in \u001b[0;36m<module>\u001b[1;34m()\u001b[0m\n\u001b[0;32m      3\u001b[0m           \u001b[0mairrights\u001b[0m\u001b[1;33m.\u001b[0m\u001b[0mfrom_encity\u001b[0m\u001b[1;33m.\u001b[0m\u001b[0mvalues\u001b[0m\u001b[1;33m.\u001b[0m\u001b[0mtolist\u001b[0m\u001b[1;33m(\u001b[0m\u001b[1;33m)\u001b[0m \u001b[1;33m+\u001b[0m\u001b[1;33m\u001b[0m\u001b[0m\n\u001b[0;32m      4\u001b[0m           \u001b[0mairrights\u001b[0m\u001b[1;33m.\u001b[0m\u001b[0mto_encity\u001b[0m\u001b[1;33m.\u001b[0m\u001b[0mvalues\u001b[0m\u001b[1;33m.\u001b[0m\u001b[0mtolist\u001b[0m\u001b[1;33m(\u001b[0m\u001b[1;33m)\u001b[0m \u001b[1;33m+\u001b[0m\u001b[1;33m\u001b[0m\u001b[0m\n\u001b[1;32m----> 5\u001b[1;33m           \u001b[0mschedules\u001b[0m\u001b[1;33m.\u001b[0m\u001b[0mencity_from\u001b[0m\u001b[1;33m.\u001b[0m\u001b[0mvalues\u001b[0m\u001b[1;33m.\u001b[0m\u001b[0mtolist\u001b[0m\u001b[1;33m(\u001b[0m\u001b[1;33m)\u001b[0m \u001b[1;33m+\u001b[0m\u001b[1;33m\u001b[0m\u001b[0m\n\u001b[0m\u001b[0;32m      6\u001b[0m           schedules.encity_to.values.tolist())\n\u001b[0;32m      7\u001b[0m \u001b[1;33m\u001b[0m\u001b[0m\n",
      "\u001b[1;32mC:\\Users\\Nadya\\Anaconda3\\lib\\site-packages\\pandas\\core\\generic.py\u001b[0m in \u001b[0;36m__getattr__\u001b[1;34m(self, name)\u001b[0m\n\u001b[0;32m   2968\u001b[0m             \u001b[1;32mif\u001b[0m \u001b[0mname\u001b[0m \u001b[1;32min\u001b[0m \u001b[0mself\u001b[0m\u001b[1;33m.\u001b[0m\u001b[0m_info_axis\u001b[0m\u001b[1;33m:\u001b[0m\u001b[1;33m\u001b[0m\u001b[0m\n\u001b[0;32m   2969\u001b[0m                 \u001b[1;32mreturn\u001b[0m \u001b[0mself\u001b[0m\u001b[1;33m[\u001b[0m\u001b[0mname\u001b[0m\u001b[1;33m]\u001b[0m\u001b[1;33m\u001b[0m\u001b[0m\n\u001b[1;32m-> 2970\u001b[1;33m             \u001b[1;32mreturn\u001b[0m \u001b[0mobject\u001b[0m\u001b[1;33m.\u001b[0m\u001b[0m__getattribute__\u001b[0m\u001b[1;33m(\u001b[0m\u001b[0mself\u001b[0m\u001b[1;33m,\u001b[0m \u001b[0mname\u001b[0m\u001b[1;33m)\u001b[0m\u001b[1;33m\u001b[0m\u001b[0m\n\u001b[0m\u001b[0;32m   2971\u001b[0m \u001b[1;33m\u001b[0m\u001b[0m\n\u001b[0;32m   2972\u001b[0m     \u001b[1;32mdef\u001b[0m \u001b[0m__setattr__\u001b[0m\u001b[1;33m(\u001b[0m\u001b[0mself\u001b[0m\u001b[1;33m,\u001b[0m \u001b[0mname\u001b[0m\u001b[1;33m,\u001b[0m \u001b[0mvalue\u001b[0m\u001b[1;33m)\u001b[0m\u001b[1;33m:\u001b[0m\u001b[1;33m\u001b[0m\u001b[0m\n",
      "\u001b[1;31mAttributeError\u001b[0m: 'DataFrame' object has no attribute 'encities_ua'"
     ]
    }
   ],
   "source": [
    "cities = (treaties.encities_ua.values.tolist() +\n",
    "          treaties.encities_foreign.values.tolist() +\n",
    "          airrights.from_encity.values.tolist() +\n",
    "          airrights.to_encity.values.tolist() +\n",
    "          schedules.encity_from.values.tolist() +\n",
    "          schedules.encity_to.values.tolist())\n",
    "\n",
    "cities = [city.split(\"|\") for city in cities\n",
    "          if city != \"all\" and not isinstance(city, float)]\n",
    "\n",
    "cities = list(set([city.strip() for city in itertools.chain.from_iterable(cities)]))"
   ]
  },
  {
   "cell_type": "code",
   "execution_count": null,
   "metadata": {},
   "outputs": [],
   "source": [
    "# for c1, c2 in itertools.combinations(cities, 2):\n",
    "#     match = fuzz.token_set_ratio(c1, c2)\n",
    "#     if match > 60:\n",
    "#         print(c1, c2, match)"
   ]
  },
  {
   "cell_type": "code",
   "execution_count": null,
   "metadata": {
    "collapsed": true
   },
   "outputs": [],
   "source": [
    "countries = (treaties.encountry.values.tolist() +\n",
    "             airrights.encountry.values.tolist() +\n",
    "             schedules.encountry_from.values.tolist() +\n",
    "             schedules.encountry_to.values.tolist())\n",
    "\n",
    "countries = list(set(countries))"
   ]
  },
  {
   "cell_type": "code",
   "execution_count": null,
   "metadata": {},
   "outputs": [],
   "source": [
    "# for c1, c2 in itertools.combinations(countries, 2):\n",
    "#     match = fuzz.token_set_ratio(c1, c2)\n",
    "#     if match > 60:\n",
    "#         print(c1, c2, match)"
   ]
  },
  {
   "cell_type": "code",
   "execution_count": null,
   "metadata": {
    "collapsed": true
   },
   "outputs": [],
   "source": [
    "airrights.to_csv('flight_rights_unicities.tsv', sep='\\t', index=False, encoding='utf-8')\n",
    "treaties.to_csv('treaties_unicities.tsv', sep='\\t', index=False, encoding='utf-8')\n",
    "schedules.to_csv('allschedules_unicities.tsv', sep='\\t', index=False, encoding='utf-8')"
   ]
  },
  {
   "cell_type": "code",
   "execution_count": 34,
   "metadata": {},
   "outputs": [
    {
     "name": "stdout",
     "output_type": "stream",
     "text": [
      "Index(['country', 'stage', 'date', 'fw_gen', 'fw_route', 'fw_airline', 'text',\n",
      "       'cities_ua', 'cities_foreign', 'notfull', 'comments', 'airlines_total',\n",
      "       'airlines_route', 'encities_ua', 'encities_foreign', 'encountry',\n",
      "       'url'],\n",
      "      dtype='object') \n",
      " Index(['date', 'right_id', 'type_of_right', 'airline_name', 'icao_airline',\n",
      "       'iata_airline', 'country', 'from_city', 'to_city', 'min_freq',\n",
      "       'max_freq', 'valid_from', 'valid_till', 'annul_date', 'given_by',\n",
      "       'given_date', 'annul_reason', 'from_encity', 'to_encity', 'encountry'],\n",
      "      dtype='object') \n",
      " Index(['airline', 'days_week', 'flight', 'route_from', 'route_to',\n",
      "       'valid_from', 'valid_till', 'encity_from', 'encity_to',\n",
      "       'encountry_from', 'encountry_to'],\n",
      "      dtype='object') \n",
      "\n"
     ]
    }
   ],
   "source": [
    "print(treaties.columns, '\\n',\n",
    "      airrights.columns, '\\n',\n",
    "      schedules.columns, '\\n')"
   ]
  },
  {
   "cell_type": "code",
   "execution_count": 17,
   "metadata": {
    "collapsed": true
   },
   "outputs": [],
   "source": [
    "treaties.columns = ['country', 'stage', 'date', 'iata_season', 'fw_gen', 'fw_route',\n",
    "                    'fw_airline', 'text', 'cities_ua', 'cities_foreign', 'nua_cities',\n",
    "                    'nforeign_cities', 'notfull', 'comments', 'airlines_total',\n",
    "                    'airlines_route', 'encities_ua', 'encities_foreign', 'encountry']\n",
    "\n",
    "airrights.columns = ['date', 'right_id', 'type_of_right', 'airline_name', 'icao_airline',\n",
    "                     'iata_airline', 'country', 'from_city', 'to_city', 'min_freq',\n",
    "                     'max_freq', 'valid_from', 'valid_till', 'annul_date', 'given_by',\n",
    "                     'given_date', 'annul_reason', 'from_encity', 'to_encity', 'encountry']"
   ]
  },
  {
   "cell_type": "markdown",
   "metadata": {
    "collapsed": true
   },
   "source": [
    "# Huge json"
   ]
  },
  {
   "cell_type": "code",
   "execution_count": 19,
   "metadata": {
    "collapsed": true
   },
   "outputs": [],
   "source": [
    "airrights = pd.read_csv('flight_rights_unicities.tsv', sep='\\t')\n",
    "treaties = pd.read_csv('treaties_unicities.tsv', sep='\\t')\n",
    "schedules = pd.read_csv('allschedules_unicities.tsv', sep='\\t')\n",
    "treaties.replace({'|': '--'}, inplace=True)\n",
    "\n",
    "\n",
    "print(treaties.columns, '\\n\\n',\n",
    "      airrights.columns, '\\n\\n',\n",
    "      schedules.columns, '\\n\\n')\n",
    "\n",
    "countries = (treaties.encountry.values.tolist() +\n",
    "             airrights.encountry.values.tolist() +\n",
    "             schedules.encountry_from.values.tolist() +\n",
    "             schedules.encountry_to.values.tolist())\n",
    "\n",
    "countries = sorted(list(set(countries)), key=str.lower)"
   ]
  },
  {
   "cell_type": "code",
   "execution_count": 20,
   "metadata": {
    "collapsed": true
   },
   "outputs": [],
   "source": [
    "country_dicts = []\n",
    "\n",
    "for country in countries:\n",
    "    if country == 'Ukraine':\n",
    "        continue\n",
    "    \n",
    "    treaties_c = treaties.loc[treaties.encountry == country, :].fillna('')\n",
    "    airrights_c = airrights.loc[airrights.encountry == country, :].fillna('')\n",
    "    schedules_c = schedules.loc[((schedules.encountry_from == country) |\n",
    "                                 (schedules.encountry_to == country)), :].fillna('')\n",
    "\n",
    "    # make the most restricted conditions in treaty appear first, and condition for all - last.\n",
    "    # otherwise all given rights will belong to the last condition for all rest points\n",
    "    treaties_c['sort'] = (treaties_c.encities_ua == 'all').astype(int)\n",
    "    treaties_c['sort'] += (treaties_c.encities_foreign == 'all').astype(int)\n",
    "    treaties_c.sort_values(by='sort', inplace=True)\n",
    "    \n",
    "    # initialize country dictionary\n",
    "    country_dict = {\n",
    "        'encoutry': country,\n",
    "        'treaty':{\n",
    "            'conditions': []\n",
    "        }\n",
    "    }\n",
    "    \n",
    "    country_dict['treaty']['uacountry'] = treaties_c.country.values.tolist()[0]\n",
    "    country_dict['treaty']['date'] = treaties_c.date.values.tolist()[0]\n",
    "    #country_dict['treaty']['url'] = condition['url'] # \n",
    "    country_dict['treaty']['stage'] = treaties_c.stage.values.tolist()[0]\n",
    "\n",
    "    chosen_ids = [] # to prevent more specified conditions from being selected to general ones\n",
    "\n",
    "    # Find flight permissions for every treaty\n",
    "    for i, condition in enumerate(treaties_c.to_dict(orient='records')):\n",
    "        \n",
    "#     new condition dict\n",
    "#         scopes: \n",
    "#             - condition: general limit of flights within condition\n",
    "#             - point: limit of flights to each point\n",
    "#             - airline: limit of flights for every airline\n",
    "            \n",
    "        new_condition = {\n",
    "            'ua_from': condition['cities_ua'],\n",
    "            'en_from': condition['encities_ua'],\n",
    "            'ua_to': condition['cities_foreign'],\n",
    "            'en_to': condition['encities_foreign'],\n",
    "            'comment': condition['comments'],\n",
    "            'flight_limits': [],\n",
    "            'airline_limits': [],\n",
    "            'permissions': []\n",
    "        }\n",
    "        \n",
    "        # Add points as other or all\n",
    "        \n",
    "        if condition['airlines_total'] != 999:\n",
    "            new_condition['airline_limits'].append({'limit': condition['airlines_total'], 'scope': 'condition'})\n",
    "            \n",
    "        if (condition['airlines_route'] != 999\n",
    "            and condition['airlines_route'] != condition['airlines_total']):\n",
    "            new_condition['airline_limits'].append({'limit': condition['airlines_route'], 'scope': 'point'})\n",
    "            \n",
    "        if condition['fw_gen'] != 999:\n",
    "            new_condition['flight_limits'].append({'limit': condition['fw_gen'], 'scope': 'condition'})\n",
    "            \n",
    "        if (condition['fw_route'] != 999\n",
    "            and condition['fw_route'] != condition['fw_gen']):\n",
    "            new_condition['flight_limits'].append({'limit': condition['fw_route'], 'scope': 'point'})\n",
    "            \n",
    "        if (condition['fw_airline'] != 999\n",
    "            and condition['fw_airline'] != condition['fw_gen']\n",
    "            and condition['fw_airline'] != condition['fw_route']):\n",
    "            new_condition['flight_limits'].append({'limit': condition['fw_airline'], 'scope': 'airline'})\n",
    "        \n",
    "        \n",
    "        encities_ua = condition['encities_ua'] if condition['encities_ua'] != 'all' else '.'\n",
    "        encities_foreign = condition['encities_foreign'] if condition['encities_foreign'] != 'all' else '.'\n",
    "\n",
    "        condition_rights = airrights_c.loc[ airrights_c.from_encity.str.contains(encities_ua) &\n",
    "                                            airrights_c.to_encity.str.contains(encities_foreign) &\n",
    "                                            ~ airrights_c.right_id.isin(chosen_ids), ] \n",
    "        \n",
    "        # add chosen rights to list of all chosen  fly permissions\n",
    "        chosen_ids += condition_rights.right_id.values.tolist()\n",
    "\n",
    "        condition_rights = condition_rights.to_dict(orient='records')\n",
    "\n",
    "        # from schedules select flights, that are made according to this rule and fill to dict\n",
    "        for i, right in enumerate(condition_rights):\n",
    "            right_schedule = schedules_c.loc[((schedules_c.airline.str.contains(right['iata_airline']) |\n",
    "                                                schedules_c.airline.str.contains(right['icao_airline'])) &\n",
    "                                               (schedules_c.encity_from.str.contains(right['from_encity']) |\n",
    "                                                schedules_c.encity_from.str.contains(right['to_encity'])) &\n",
    "                                               (schedules_c.encity_to.str.contains(right['from_encity']) |\n",
    "                                                schedules_c.encity_to.str.contains(right['to_encity']))), ]\n",
    "\n",
    "            # add info about total # of route flights and flight numbers within this right\n",
    "            if len(list(set(right_schedule.flight.values.tolist()))) > 0:\n",
    "                condition_rights[i]['schedules'] = {\n",
    "                    'freq': right_schedule.days_week.apply(lambda x: len(str(x))).drop_duplicates().sum(),\n",
    "                    'flights': list(set(right_schedule.flight.values.tolist()))\n",
    "                }\n",
    "\n",
    "        new_condition['permissions'] = condition_rights\n",
    "                \n",
    "        #! add conditions to countrydict\n",
    "        country_dict['treaty']['conditions'].append(new_condition)\n",
    "\n",
    "    # add info about treaty    \n",
    "    \n",
    "\n",
    "    \n",
    "    country_dicts.append(country_dict)"
   ]
  },
  {
   "cell_type": "code",
   "execution_count": 21,
   "metadata": {},
   "outputs": [
    {
     "data": {
      "text/plain": [
       "{'encountry': 'China',\n",
       " 'flight_rights': [{'airline_name': 'МАУ',\n",
       "   'annul_date': '',\n",
       "   'annul_reason': '',\n",
       "   'country': 'Китайська Народна Республіка',\n",
       "   'date': '01.09.2016',\n",
       "   'encountry': 'China',\n",
       "   'from_city': 'Київ',\n",
       "   'from_encity': 'Kiev',\n",
       "   'given_by': 'Протокол засідання комісії ДАС № 16 від 30.08.2016',\n",
       "   'given_date': '01.09.2016',\n",
       "   'iata_airline': 'PS',\n",
       "   'icao_airline': 'AUI',\n",
       "   'max_freq': '3',\n",
       "   'min_freq': 0,\n",
       "   'right_id': 1524,\n",
       "   'to_city': 'Шанхай',\n",
       "   'to_encity': 'Shanghai',\n",
       "   'type_of_right': 'Регулярні міжнародні',\n",
       "   'valid_from': '01.09.2016',\n",
       "   'valid_till': '01.09.2066'},\n",
       "  {'airline_name': 'ЗЕТАВІА',\n",
       "   'annul_date': '',\n",
       "   'annul_reason': '',\n",
       "   'country': 'Китайська Народна Республіка',\n",
       "   'date': '09.12.2015',\n",
       "   'encountry': 'China',\n",
       "   'from_city': 'Одеса',\n",
       "   'from_encity': 'Odessa',\n",
       "   'given_by': 'Протокол засідання комісії ДАС №7 від 09.12.2015',\n",
       "   'given_date': '11.12.2015',\n",
       "   'iata_airline': '',\n",
       "   'icao_airline': '',\n",
       "   'max_freq': '1',\n",
       "   'min_freq': 0,\n",
       "   'right_id': 1249,\n",
       "   'to_city': 'Тяньцзинь',\n",
       "   'to_encity': 'Tianjin',\n",
       "   'type_of_right': 'Регулярні міжнародні',\n",
       "   'valid_from': '09.12.2015',\n",
       "   'valid_till': '01.12.2020'},\n",
       "  {'airline_name': 'ЗЕТАВІА',\n",
       "   'annul_date': '',\n",
       "   'annul_reason': '',\n",
       "   'country': 'Китайська Народна Республіка',\n",
       "   'date': '09.12.2015',\n",
       "   'encountry': 'China',\n",
       "   'from_city': 'Київ',\n",
       "   'from_encity': 'Kiev',\n",
       "   'given_by': 'Протокол засідання комісії ДАС №7 від 09.12.2015',\n",
       "   'given_date': '11.12.2015',\n",
       "   'iata_airline': '',\n",
       "   'icao_airline': '',\n",
       "   'max_freq': '1',\n",
       "   'min_freq': 0,\n",
       "   'right_id': 1248,\n",
       "   'to_city': 'Тяньцзинь',\n",
       "   'to_encity': 'Tianjin',\n",
       "   'type_of_right': 'Регулярні міжнародні',\n",
       "   'valid_from': '09.12.2015',\n",
       "   'valid_till': '01.12.2020'},\n",
       "  {'airline_name': 'МАУ',\n",
       "   'annul_date': '',\n",
       "   'annul_reason': '',\n",
       "   'country': 'Китайська Народна Республіка',\n",
       "   'date': '20.09.2013',\n",
       "   'encountry': 'China',\n",
       "   'from_city': 'Київ',\n",
       "   'from_encity': 'Kiev',\n",
       "   'given_by': 'Протокол засідання комісії МІУ № 6 від 20.09.2013',\n",
       "   'given_date': '23.10.2013',\n",
       "   'iata_airline': 'PS',\n",
       "   'icao_airline': 'AUI',\n",
       "   'max_freq': '7',\n",
       "   'min_freq': 0,\n",
       "   'right_id': 610,\n",
       "   'to_city': 'Пекін',\n",
       "   'to_encity': 'Beijing',\n",
       "   'type_of_right': 'Регулярні міжнародні',\n",
       "   'valid_from': '20.09.2013',\n",
       "   'valid_till': '20.09.2023'}],\n",
       " 'schedules': [{'airline': 'PS',\n",
       "   'days_week': 1234567,\n",
       "   'encity_from': 'Kiev',\n",
       "   'encity_to': 'Beijing',\n",
       "   'encountry_from': 'Ukraine',\n",
       "   'encountry_to': 'China',\n",
       "   'flight': 'PS287',\n",
       "   'route_from': 'KBP',\n",
       "   'route_to': 'PEK',\n",
       "   'valid_from': '22.08.2017',\n",
       "   'valid_till': '08.09.2017'},\n",
       "  {'airline': 'PS',\n",
       "   'days_week': 1234567,\n",
       "   'encity_from': 'Beijing',\n",
       "   'encity_to': 'Kiev',\n",
       "   'encountry_from': 'China',\n",
       "   'encountry_to': 'Ukraine',\n",
       "   'flight': 'PS288',\n",
       "   'route_from': 'PEK',\n",
       "   'route_to': 'KBP',\n",
       "   'valid_from': '23.08.2017',\n",
       "   'valid_till': '08.09.2017'}],\n",
       " 'treaties': [{'airlines_route': 3,\n",
       "   'airlines_total': 3,\n",
       "   'cities_foreign': 'Пекін|Тяньцзінь|Шанхай|Гуанчжоу',\n",
       "   'cities_ua': 'всі',\n",
       "   'comments': '',\n",
       "   'country': 'КНР',\n",
       "   'date': '05.07.1993',\n",
       "   'encities_foreign': 'Beijing|Tianjin|Shanghai|Guangzhou',\n",
       "   'encities_ua': 'all',\n",
       "   'encountry': 'China',\n",
       "   'fw_airline': 14,\n",
       "   'fw_gen': 14,\n",
       "   'fw_route': 7,\n",
       "   'iata_season': 'всі',\n",
       "   'nforeign_cities': 4,\n",
       "   'notfull': 0,\n",
       "   'nua_cities': 999,\n",
       "   'stage': 'чинна',\n",
       "   'text': '14 рейсів для кожної сторони (сукупно на країну). До 7 рейсів на кожному маршрут'}]}"
      ]
     },
     "execution_count": 21,
     "metadata": {},
     "output_type": "execute_result"
    }
   ],
   "source": []
  },
  {
   "cell_type": "code",
   "execution_count": null,
   "metadata": {
    "collapsed": true
   },
   "outputs": [],
   "source": [
    "#with codecs.open('C:/Users/Nadya/Desktop/aviaroutes/avia_all.json', 'w', encoding='utf-8') as f:\n",
    "#    f.write(json.dumps(huge_json))"
   ]
  },
  {
   "cell_type": "markdown",
   "metadata": {},
   "source": [
    "# Unify city names, everything in English"
   ]
  },
  {
   "cell_type": "code",
   "execution_count": 38,
   "metadata": {
    "collapsed": true
   },
   "outputs": [],
   "source": [
    "gmaps = googlemaps.Client(key=\"\")"
   ]
  },
  {
   "cell_type": "code",
   "execution_count": null,
   "metadata": {
    "collapsed": true
   },
   "outputs": [],
   "source": [
    "cities = (treaties.cities_ua.values.tolist() +\n",
    "          treaties.cities_foreign.values.tolist() +\n",
    "          airrights.from_city.values.tolist() +\n",
    "          airrights.to_city.values.tolist())\n",
    "\n",
    "cities = [city.split(\"|\") for city in cities\n",
    "          if city != \"всі\" and not isinstance(city, float)]\n",
    "\n",
    "cities = [city for city in itertools.chain.from_iterable(cities)]\n",
    "\n",
    "cities = pd.DataFrame(list(set(cities)), columns=['ukcity'])\n",
    "cities['encity'] = None\n",
    "cities['country'] = None"
   ]
  },
  {
   "cell_type": "code",
   "execution_count": null,
   "metadata": {
    "collapsed": true
   },
   "outputs": [],
   "source": [
    "for i, city in tqdm(cities.iterrows()):\n",
    "    result = gmaps.geocode(city['ukcity'])\n",
    "    if len(result) > 0:\n",
    "        result = [d for d in result[0]['address_components']\n",
    "                  if 'political' in d['types']]\n",
    "        cities.loc[i, 'encity'] = result[0]['short_name']\n",
    "        cities.loc[i, 'country'] = result[-1]['long_name']\n",
    "    sleep(0.5)"
   ]
  },
  {
   "cell_type": "code",
   "execution_count": null,
   "metadata": {
    "collapsed": true
   },
   "outputs": [],
   "source": [
    "#cities.to_csv('cities_en.tsv', sep='\\t', encoding='utf-8', index=False)"
   ]
  },
  {
   "cell_type": "markdown",
   "metadata": {},
   "source": [
    "# Get eng names of countries"
   ]
  },
  {
   "cell_type": "code",
   "execution_count": null,
   "metadata": {
    "collapsed": true
   },
   "outputs": [],
   "source": [
    "countries = (treaties.country.values.tolist() +\n",
    "             airrights.country.values.tolist())\n",
    "\n",
    "countries = pd.DataFrame(list(set(countries)), columns=['ukcountry'])\n",
    "countries['encountry'] = None"
   ]
  },
  {
   "cell_type": "code",
   "execution_count": null,
   "metadata": {
    "collapsed": true
   },
   "outputs": [],
   "source": [
    "for i, country in tqdm(countries.iterrows()):\n",
    "    result = gmaps.geocode(country['ukcountry'])\n",
    "    if len(result) > 0:\n",
    "        countries.loc[i, 'encountry'] = result[0]['address_components'][0]['long_name']\n",
    "    sleep(0.5)"
   ]
  },
  {
   "cell_type": "code",
   "execution_count": null,
   "metadata": {
    "collapsed": true
   },
   "outputs": [],
   "source": [
    "#countries.to_csv('countries_en.tsv', sep='\\t', encoding='utf-8', index=False)"
   ]
  },
  {
   "cell_type": "markdown",
   "metadata": {},
   "source": [
    "manually check cities"
   ]
  }
 ],
 "metadata": {
  "kernelspec": {
   "display_name": "Python 3",
   "language": "python",
   "name": "python3"
  },
  "language_info": {
   "codemirror_mode": {
    "name": "ipython",
    "version": 3
   },
   "file_extension": ".py",
   "mimetype": "text/x-python",
   "name": "python",
   "nbconvert_exporter": "python",
   "pygments_lexer": "ipython3",
   "version": "3.6.1"
  }
 },
 "nbformat": 4,
 "nbformat_minor": 2
}
